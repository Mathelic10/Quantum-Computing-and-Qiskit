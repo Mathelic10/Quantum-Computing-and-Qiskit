{
 "cells": [
  {
   "cell_type": "markdown",
   "metadata": {},
   "source": [
    "## Simple operations in a quantum circuit with 1 qubit. "
   ]
  },
  {
   "cell_type": "code",
   "execution_count": 35,
   "metadata": {},
   "outputs": [],
   "source": [
    "from qiskit import QuantumCircuit, transpile\n",
    "from qiskit_aer import AerSimulator"
   ]
  },
  {
   "cell_type": "markdown",
   "metadata": {},
   "source": [
    "1. Just apply the X gate(equivalent to NOT) once and the result comes out to be 1.\n",
    "2. Do it twice and it turns out ot be 0."
   ]
  },
  {
   "cell_type": "code",
   "execution_count": 40,
   "metadata": {},
   "outputs": [
    {
     "name": "stdout",
     "output_type": "stream",
     "text": [
      "Measurement results: ['1']\n"
     ]
    }
   ],
   "source": [
    "f = QuantumCircuit(1, 1)  # Add 1 classical bit\n",
    "\n",
    "# Apply an X gate\n",
    "f.x(0)\n",
    "f.draw('mpl')\n",
    "\n",
    "# Add a measurement operation\n",
    "f.measure(0, 0)\n",
    "\n",
    "# Simulate the circuit\n",
    "simulator = AerSimulator()\n",
    "compiled_circuit = transpile(f, simulator)\n",
    "result = simulator.run(compiled_circuit, shots=1, memory=True).result()\n",
    "\n",
    "# Retrieve the memory (individual shot results)\n",
    "measurements = result.get_memory()\n",
    "\n",
    "# Display the results\n",
    "print(\"Measurement results:\", measurements)\n",
    "\n",
    "f.draw('mpl')\n"
   ]
  },
  {
   "cell_type": "code",
   "execution_count": 41,
   "metadata": {},
   "outputs": [
    {
     "name": "stdout",
     "output_type": "stream",
     "text": [
      "Measurement results: ['0']\n"
     ]
    },
    {
     "data": {
      "image/png": "[encoded data removed]",
      "text/plain": [
       "<Figure size 352.675x200.667 with 1 Axes>"
      ]
     },
     "execution_count": 41,
     "metadata": {},
     "output_type": "execute_result"
    }
   ],
   "source": [
    "# Create a quantum circuit with 1 qubit\n",
    "f = QuantumCircuit(1, 1)  # Add 1 classical bit\n",
    "\n",
    "# Apply an X gate\n",
    "f.x(0)\n",
    "f.x(0)\n",
    "f.draw('mpl')\n",
    "\n",
    "# Add a measurement operation\n",
    "f.measure(0, 0)\n",
    "\n",
    "# Simulate the circuit\n",
    "simulator = AerSimulator()\n",
    "compiled_circuit = transpile(f, simulator)\n",
    "result = simulator.run(compiled_circuit, shots=1, memory=True).result()\n",
    "\n",
    "# Retrieve the memory (individual shot results)\n",
    "measurements = result.get_memory()\n",
    "\n",
    "# Display the results\n",
    "print(\"Measurement results:\", measurements)\n",
    "\n",
    "f.draw('mpl')"
   ]
  },
  {
   "cell_type": "code",
   "execution_count": 42,
   "metadata": {},
   "outputs": [],
   "source": [
    "def hadamard_measurement():\n",
    "     f = QuantumCircuit(1, 1)  # Add 1 classical bit\n",
    "\n",
    "     # Apply an X gate\n",
    "     f.h(0)\n",
    "\n",
    "     # Add a measurement operation\n",
    "     f.measure(0, 0)\n",
    "\n",
    "     # Simulate the circuit\n",
    "     simulator = AerSimulator()\n",
    "     compiled_circuit = transpile(f, simulator)\n",
    "     result = simulator.run(compiled_circuit, shots=1, memory=True).result()\n",
    "\n",
    "     # Retrieve the memory (individual shot results)\n",
    "     measurements = result.get_memory()\n",
    "\n",
    "     # return the results\n",
    "     return measurements"
   ]
  },
  {
   "cell_type": "code",
   "execution_count": 43,
   "metadata": {},
   "outputs": [],
   "source": [
    "# run 100 simulations\n",
    "arr = []\n",
    "for i in range(1,100):\n",
    "     arr.append(hadamard_measurement()[0])\n",
    "     "
   ]
  },
  {
   "cell_type": "code",
   "execution_count": 62,
   "metadata": {},
   "outputs": [
    {
     "data": {
      "text/plain": [
       "(47, 52)"
      ]
     },
     "execution_count": 62,
     "metadata": {},
     "output_type": "execute_result"
    }
   ],
   "source": [
    "#count the values\n",
    "arr.count('0'),arr.count('1')"
   ]
  },
  {
   "cell_type": "code",
   "execution_count": null,
   "metadata": {},
   "outputs": [],
   "source": []
  }
 ],
 "metadata": {
  "kernelspec": {
   "display_name": ".venv",
   "language": "python",
   "name": "python3"
  },
  "language_info": {
   "codemirror_mode": {
    "name": "ipython",
    "version": 3
   },
   "file_extension": ".py",
   "mimetype": "text/x-python",
   "name": "python",
   "nbconvert_exporter": "python",
   "pygments_lexer": "ipython3",
   "version": "3.12.4"
  }
 },
 "nbformat": 4,
 "nbformat_minor": 2
}
